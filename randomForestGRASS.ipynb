{
 "cells": [
  {
   "cell_type": "markdown",
   "id": "compliant-blind",
   "metadata": {},
   "source": [
    "# Random Forest Classification Using r.learn.ml in GRASS GIS"
   ]
  },
  {
   "cell_type": "markdown",
   "id": "lasting-annex",
   "metadata": {},
   "source": [
    "The following notebook will preprocess geojson files as training data and tif files as rasters to be classified. In a second step, the classification will be conducted using r.learn.ml. For all steps, pygrass is used."
   ]
  },
  {
   "cell_type": "markdown",
   "id": "living-organic",
   "metadata": {},
   "source": [
    "# Preprocessing"
   ]
  },
  {
   "cell_type": "markdown",
   "id": "sophisticated-tucson",
   "metadata": {},
   "source": [
    "__Imports__"
   ]
  },
  {
   "cell_type": "code",
   "execution_count": 1,
   "id": "primary-baseball",
   "metadata": {},
   "outputs": [],
   "source": [
    "import os\n",
    "from grass.pygrass.modules.shortcuts import raster as r, vector as v, general as g, imagery "
   ]
  },
  {
   "cell_type": "markdown",
   "id": "dental-niger",
   "metadata": {},
   "source": [
    "__Install GRASS GIS extensions__"
   ]
  },
  {
   "cell_type": "code",
   "execution_count": 2,
   "id": "uniform-eating",
   "metadata": {},
   "outputs": [
    {
     "data": {
      "text/plain": [
       "Module('g.extension')"
      ]
     },
     "execution_count": 2,
     "metadata": {},
     "output_type": "execute_result"
    }
   ],
   "source": [
    "g.extension_(extension=\"r.learn.ml\")\n",
    "g.extension_(extension=\"r.clip\")"
   ]
  },
  {
   "cell_type": "markdown",
   "id": "expensive-mystery",
   "metadata": {},
   "source": [
    "__Change working directory__"
   ]
  },
  {
   "cell_type": "code",
   "execution_count": 3,
   "id": "chicken-galaxy",
   "metadata": {},
   "outputs": [],
   "source": [
    "wd_path = \"\" # enter your file path\n",
    "os.chdir(wd_path)"
   ]
  },
  {
   "cell_type": "markdown",
   "id": "mental-escape",
   "metadata": {},
   "source": [
    "__Choose Year__"
   ]
  },
  {
   "cell_type": "code",
   "execution_count": 4,
   "id": "concrete-detection",
   "metadata": {},
   "outputs": [],
   "source": [
    "year = \"2020\" #enter 2020 or 2015"
   ]
  },
  {
   "cell_type": "markdown",
   "id": "outstanding-preserve",
   "metadata": {},
   "source": [
    "__Training Data__"
   ]
  },
  {
   "cell_type": "code",
   "execution_count": 5,
   "id": "harmful-desire",
   "metadata": {},
   "outputs": [
    {
     "name": "stdout",
     "output_type": "stream",
     "text": [
      "imported y2020_1112.geojson\n",
      "imported y2020_13.geojson\n",
      "imported y2020_2.geojson\n",
      "imported y2020_31.geojson\n",
      "imported y2020_32.geojson\n",
      "imported y2020_5.geojson\n",
      "merged vector files\n",
      "rasterized merged training data\n",
      "extracted random test and training sample\n"
     ]
    }
   ],
   "source": [
    "all_datasets = \"\"\n",
    "i = 0\n",
    "# import all files in directory with extension \".geojson\"\n",
    "for file in os.listdir(\"osmQueries/\" + year):\n",
    "    if file.endswith(\".geojson\"):\n",
    "        \n",
    "        current_file = str(os.path.join(file)) # file name with extension\n",
    "        filepath = str(wd_path + \"osmQueries/\" + year + \"/\" + current_file) # path to file\n",
    "        output = str(current_file).split(\".\")[0] # file name without extension for output names\n",
    "        \n",
    "        # import data into grass\n",
    "        v.import_(input=filepath, output=output, overwrite=True)\n",
    "        print(\"imported \" + current_file)\n",
    "        \n",
    "        # extract corine class from file name, add column, and add corine class to new column\n",
    "        corine_class = output.split(\"_\")[-1]\n",
    "        v.db_addcolumn_(map=output, columns=\"class int\")\n",
    "        v.db_update_(map=output, column=\"class\", value=corine_class)\n",
    "        \n",
    "        # create string with all output names for merging\n",
    "        if i == 0:\n",
    "            all_datasets += output\n",
    "           \n",
    "        else: \n",
    "            all_datasets += \",\" + output\n",
    "        i+=1\n",
    "    \n",
    "# merge all vector datasets\n",
    "v.patch_(input=all_datasets, output=\"merged_training_data\", flags=\"e\", overwrite=True)\n",
    "print(\"merged vector files\")\n",
    "\n",
    "# set region to extent of training data\n",
    "g.region_(vector=\"merged_training_data\")\n",
    "\n",
    "# rasterize training data\n",
    "v.to_rast_(input=\"merged_training_data\", \n",
    "           output=\"training_raster\", use=\"attr\", \n",
    "           attribute_column=\"class\", \n",
    "           overwrite=True)\n",
    "print(\"rasterized merged training data\")\n",
    "\n",
    "# random sample of training and test data\n",
    "r.random_(input=\"training_raster\", npoints=100000, raster=\"training_sample\", seed=1, overwrite=True)\n",
    "\n",
    "print(\"extracted random test and training sample\")"
   ]
  },
  {
   "cell_type": "markdown",
   "id": "working-representation",
   "metadata": {},
   "source": [
    "__Raster Data__"
   ]
  },
  {
   "cell_type": "code",
   "execution_count": 6,
   "id": "theoretical-romania",
   "metadata": {},
   "outputs": [
    {
     "name": "stdout",
     "output_type": "stream",
     "text": [
      "imported T32UMV_20200723T103031_B02.tif\n",
      "imported T32UMV_20200723T103031_B03.tif\n",
      "imported T32UMV_20200723T103031_B04.tif\n",
      "imported T32UMV_20200723T103031_B08.tif\n"
     ]
    },
    {
     "data": {
      "text/plain": [
       "Module('i.group')"
      ]
     },
     "execution_count": 6,
     "metadata": {},
     "output_type": "execute_result"
    }
   ],
   "source": [
    "g.remove_(type=\"group\", name=\"raster_group\", flags=\"f\")\n",
    "all_bands = \"\"\n",
    "i = 0\n",
    "for file in os.listdir(\"satData/\" + year + \"/\"):\n",
    "    if file.endswith(\".tif\") or file.endswith(\".TIF\"):\n",
    "        \n",
    "        current_file = str(os.path.join(file)) # file name with extension\n",
    "        filepath = str(wd_path + \"satData/\" + year + \"/\" + current_file) # path to file\n",
    "        output = str(current_file).split(\".\")[0] # file name without extension for output names\n",
    "        \n",
    "        r.import_(input=filepath, output=output, overwrite=True)\n",
    "        print(\"imported \" + current_file)\n",
    "        \n",
    "        # clip to computational region \n",
    "        band_nr = str(list(output)[-1]) #extract band number from file name\n",
    "        band = \"b_\" + band_nr\n",
    "        r.clip(input=output, output=band, overwrite=True)\n",
    "        \n",
    "        # remove imported rasters to only keep clipped ones\n",
    "        g.remove_(type=\"raster\", name=output, flags=\"f\")\n",
    "        \n",
    "        # fill empty string with all output names for grouping\n",
    "        if i == 0:\n",
    "            all_bands += band\n",
    "        else: \n",
    "            all_bands += \",\" + band\n",
    "        i+=1\n",
    "# group all raster bands\n",
    "imagery.group_(group=\"raster_group\", input=all_bands)\n"
   ]
  },
  {
   "cell_type": "markdown",
   "id": "juvenile-dispute",
   "metadata": {},
   "source": [
    "__Classification__"
   ]
  },
  {
   "cell_type": "code",
   "execution_count": null,
   "id": "dress-violin",
   "metadata": {},
   "outputs": [],
   "source": [
    "r.learn_ml_(group=\"raster_group\", \n",
    "            trainingmap=\"training_sample\", \n",
    "            output=\"rf_class\", \n",
    "            classifier=\"RandomForestClassifier\", \n",
    "            n_estimators=10, \n",
    "            overwrite=True)"
   ]
  }
 ],
 "metadata": {
  "kernelspec": {
   "display_name": "Python 3",
   "language": "python",
   "name": "python3"
  },
  "language_info": {
   "codemirror_mode": {
    "name": "ipython",
    "version": 3
   },
   "file_extension": ".py",
   "mimetype": "text/x-python",
   "name": "python",
   "nbconvert_exporter": "python",
   "pygments_lexer": "ipython3",
   "version": "3.7.0"
  }
 },
 "nbformat": 4,
 "nbformat_minor": 5
}
